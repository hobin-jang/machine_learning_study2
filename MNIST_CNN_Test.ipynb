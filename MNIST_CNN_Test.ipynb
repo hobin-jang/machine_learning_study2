{
  "nbformat": 4,
  "nbformat_minor": 0,
  "metadata": {
    "colab": {
      "name": "MNIST_CNN_Test.ipynb",
      "private_outputs": true,
      "provenance": [],
      "collapsed_sections": []
    },
    "kernelspec": {
      "name": "python3",
      "display_name": "Python 3"
    },
    "accelerator": "GPU"
  },
  "cells": [
    {
      "cell_type": "code",
      "metadata": {
        "id": "fh5SWHIW8Y_F"
      },
      "source": [
        "import tensorflow as tf\r\n",
        "device_name = tf.test.gpu_device_name()"
      ],
      "execution_count": null,
      "outputs": []
    },
    {
      "cell_type": "code",
      "metadata": {
        "id": "pt6WvloS9DG9"
      },
      "source": [
        "device_name"
      ],
      "execution_count": null,
      "outputs": []
    },
    {
      "cell_type": "code",
      "metadata": {
        "id": "I8LHoBvx9JF5"
      },
      "source": [
        "import matplotlib.pyplot as plt"
      ],
      "execution_count": null,
      "outputs": []
    },
    {
      "cell_type": "code",
      "metadata": {
        "id": "4hI0KAMr9Pi8"
      },
      "source": [
        "Mnist = tf.keras.datasets.mnist"
      ],
      "execution_count": null,
      "outputs": []
    },
    {
      "cell_type": "code",
      "metadata": {
        "id": "4anf9iXv9UX1"
      },
      "source": [
        "(x_train, t_train), (x_test, t_test) = Mnist.load_data()"
      ],
      "execution_count": null,
      "outputs": []
    },
    {
      "cell_type": "code",
      "metadata": {
        "id": "Z2b0Ex0vIT-6"
      },
      "source": [
        "for i in range(9):\r\n",
        "  plt.subplot(3,3,i+1)\r\n",
        "  plt.tight_layout()\r\n",
        "  plt.imshow(x_train[i].reshape(28,28), cmap=\"gray\", interpolation=\"none\")\r\n",
        "  plt.title(\"digit: {}\".format(t_train[i]))\r\n",
        "  plt.xticks([])\r\n",
        "  plt.yticks([])\r\n",
        "\r\n",
        "plt.figure()"
      ],
      "execution_count": null,
      "outputs": []
    },
    {
      "cell_type": "code",
      "metadata": {
        "id": "vMaRvUTaJYr1"
      },
      "source": [
        "x_train.astype('float32')\r\n",
        "x_test.astype('float32')\r\n",
        "x_train, x_test = x_train/255, x_test/255\r\n",
        "x_train = x_train.reshape(60000,28,28,1)\r\n",
        "x_test = x_test.reshape(10000,28,28,1)\r\n",
        "print(x_train.shape)\r\n",
        "print(t_train.shape)"
      ],
      "execution_count": null,
      "outputs": []
    },
    {
      "cell_type": "code",
      "metadata": {
        "id": "UFKLZ290K3bR"
      },
      "source": [
        "num_category = 10\r\n",
        "t_train = tf.keras.utils.to_categorical(t_train, num_category)\r\n",
        "t_test = tf.keras.utils.to_categorical(t_test, num_category)\r\n",
        "print(t_train[0])"
      ],
      "execution_count": null,
      "outputs": []
    },
    {
      "cell_type": "code",
      "metadata": {
        "id": "hF58Dcwi9iD5"
      },
      "source": [
        "model = tf.keras.models.Sequential([\r\n",
        "              tf.keras.layers.Conv2D(64, 3, activation=\"relu\", padding=\"same\", input_shape=(28,28,1)),\r\n",
        "              tf.keras.layers.MaxPool2D(2),\r\n",
        "              tf.keras.layers.Conv2D(128, 3, activation=\"relu\", padding=\"same\"),\r\n",
        "              tf.keras.layers.MaxPool2D(2),\r\n",
        "              tf.keras.layers.Dropout(0.25),\r\n",
        "              tf.keras.layers.Flatten(),\r\n",
        "              tf.keras.layers.Dense(64, activation=\"relu\"),\r\n",
        "              tf.keras.layers.Dropout(0.5),\r\n",
        "              tf.keras.layers.Dense(num_category, activation=\"softmax\")\r\n",
        "])"
      ],
      "execution_count": null,
      "outputs": []
    },
    {
      "cell_type": "code",
      "metadata": {
        "id": "NXkemIxW-7m8"
      },
      "source": [
        "model.compile(loss=\"categorical_crossentropy\", optimizer=\"adam\", metrics=[\"accuracy\"])"
      ],
      "execution_count": null,
      "outputs": []
    },
    {
      "cell_type": "code",
      "metadata": {
        "id": "KlXvSxVg_OQK"
      },
      "source": [
        "batch_size = 128\r\n",
        "num_epoch = 10\r\n",
        "History = model.fit(x_train, t_train, batch_size=batch_size, epochs=num_epoch, validation_data=(x_test, t_test))"
      ],
      "execution_count": null,
      "outputs": []
    },
    {
      "cell_type": "code",
      "metadata": {
        "id": "EOzOHCUGLaN8"
      },
      "source": [
        "score = model.evaluate(x_test, t_test, verbose=0)\r\n",
        "print(\"Test loss = \", score[0])\r\n",
        "print(\"Test accuracy = \", score[1])"
      ],
      "execution_count": null,
      "outputs": []
    },
    {
      "cell_type": "code",
      "metadata": {
        "id": "wE7IsGZMPUoN"
      },
      "source": [
        "plt.plot(History.history['accuracy'], label=\"train\")\r\n",
        "plt.plot(History.history['val_accuracy'], label=\"test\")\r\n",
        "plt.xlabel('epoch')\r\n",
        "plt.ylabel('accuracy')\r\n",
        "plt.legend(loc='lower right')\r\n",
        "plt.show()"
      ],
      "execution_count": null,
      "outputs": []
    },
    {
      "cell_type": "code",
      "metadata": {
        "id": "R67NHkkTP6H1"
      },
      "source": [
        "plt.plot(History.history['loss'], label=\"train\")\r\n",
        "plt.plot(History.history['val_loss'], label=\"test\")\r\n",
        "plt.xlabel('epoch')\r\n",
        "plt.ylabel('accuracy')\r\n",
        "plt.legend(loc='lower right')\r\n",
        "plt.show()"
      ],
      "execution_count": null,
      "outputs": []
    },
    {
      "cell_type": "code",
      "metadata": {
        "id": "PLmVlw4ySnYR"
      },
      "source": [
        ""
      ],
      "execution_count": null,
      "outputs": []
    }
  ]
}