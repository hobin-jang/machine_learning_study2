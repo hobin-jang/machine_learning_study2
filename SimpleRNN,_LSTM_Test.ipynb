{
  "nbformat": 4,
  "nbformat_minor": 0,
  "metadata": {
    "colab": {
      "name": "SimpleRNN, LSTM Test.ipynb",
      "private_outputs": true,
      "provenance": [],
      "collapsed_sections": [],
      "authorship_tag": "ABX9TyOj5h0NSVwFc906kqw4VJX8",
      "include_colab_link": true
    },
    "kernelspec": {
      "name": "python3",
      "display_name": "Python 3"
    },
    "accelerator": "GPU"
  },
  "cells": [
    {
      "cell_type": "markdown",
      "metadata": {
        "id": "view-in-github",
        "colab_type": "text"
      },
      "source": [
        "<a href=\"https://colab.research.google.com/github/hobin-jang/colab_test/blob/master/SimpleRNN%2C_LSTM_Test.ipynb\" target=\"_parent\"><img src=\"https://colab.research.google.com/assets/colab-badge.svg\" alt=\"Open In Colab\"/></a>"
      ]
    },
    {
      "cell_type": "code",
      "metadata": {
        "id": "ARD4Iovezz3m"
      },
      "source": [
        "import tensorflow as tf\r\n",
        "import matplotlib.pyplot as plt\r\n",
        "import numpy as np"
      ],
      "execution_count": null,
      "outputs": []
    },
    {
      "cell_type": "code",
      "metadata": {
        "id": "HS6p2lJBQzMf"
      },
      "source": [
        "def generate_time_series(batch_size, n_steps):\r\n",
        "  freq1, freq2, offsets1, offsets2 = np.random.rand(4, batch_size, 1)\r\n",
        "  time = np.linspace(0, 1, n_steps)\r\n",
        "  series = 0.5 * np.sin((time - offsets1) * (freq1 * 10 + 10))\r\n",
        "  series += 0.2 * np.sin((time - offsets2) * (freq2 * 20 + 20))\r\n",
        "  series += 0.1 * (np.random.rand(batch_size, n_steps) - 0.5)\r\n",
        "  return series[..., np.newaxis].astype(np.float32)"
      ],
      "execution_count": null,
      "outputs": []
    },
    {
      "cell_type": "code",
      "metadata": {
        "id": "1M52ISKgRboh"
      },
      "source": [
        "n_steps = 50\r\n",
        "batch_size = 10000\r\n",
        "series = generate_time_series(batch_size, n_steps + 1)\r\n",
        "x_train, y_train = series[:7000, :n_steps], series[:7000, -1]\r\n",
        "x_valid, y_valid = series[7000:9000, :n_steps], series[7000:9000, -1]\r\n",
        "x_test, y_test = series[9000:, :n_steps], series[9000:, -1]"
      ],
      "execution_count": null,
      "outputs": []
    },
    {
      "cell_type": "code",
      "metadata": {
        "id": "nyUt6URdU_mB"
      },
      "source": [
        "plt.plot(series[0])\r\n",
        "plt.show()"
      ],
      "execution_count": null,
      "outputs": []
    },
    {
      "cell_type": "code",
      "metadata": {
        "id": "CCjQItjS9OCW"
      },
      "source": [
        "\"\"\"\r\n",
        "간단한 RNN 구조\r\n",
        "keras의 SimpleRNN 에서는 기본적으로 tanh를 활성화 함수로 사용\r\n",
        "RNN의 경우 입력 데이터의 길이에 상관 없이 time step 처리할 수 있기 때문에 input_shape=[None, 1]\r\n",
        "return_sequence=True : time step마다 출력 return\r\n",
        "하지 않으면 마지막 time step의 결과만 출력\r\n",
        "다음 layer를 RNN 구조 이용하려면 return_sequence=True 해야함\r\n",
        "마무리로 Dense 사용한 것 : SimpleRNN은 tanh를 활성화 함수로 이용하기에 결과는 -1, 1 사이\r\n",
        "다른 활성화 함수 사용하거나 더 빠른 계산 위해 Dense 사용\r\n",
        "\"\"\"\r\n",
        "\r\n",
        "model = tf.keras.models.Sequential([\r\n",
        "              tf.keras.layers.SimpleRNN(20, return_sequences=True, input_shape=[None, 1]),\r\n",
        "              tf.keras.layers.SimpleRNN(20),\r\n",
        "              tf.keras.layers.Dense(1)\r\n",
        "])"
      ],
      "execution_count": null,
      "outputs": []
    },
    {
      "cell_type": "code",
      "metadata": {
        "id": "bf7erNyv-Lg0"
      },
      "source": [
        "model.summary()"
      ],
      "execution_count": null,
      "outputs": []
    },
    {
      "cell_type": "code",
      "metadata": {
        "id": "AbHdHSNgH1Is"
      },
      "source": [
        "\"\"\"\r\n",
        "LSTM (장단기 메모리 셀) 기본 구조\r\n",
        "데이터의 장기간 의존성을 위해 사용\r\n",
        "TimeDistributed : 입력 층의 모든 time step에 (...)의 내용을 적용 => 각 time step을 별개의 샘플로 다룰 때 효과적\r\n",
        "\"\"\"\r\n",
        "model2 = tf.keras.models.Sequential([\r\n",
        "              tf.keras.layers.LSTM(20, return_sequences=True, input_shape=[None, 1]),\r\n",
        "              tf.keras.layers.LSTM(20, return_sequences=True),\r\n",
        "              tf.keras.layers.TimeDistributed(tf.keras.layers.Dense(10))\r\n",
        "])"
      ],
      "execution_count": null,
      "outputs": []
    },
    {
      "cell_type": "code",
      "metadata": {
        "id": "LH_J-k6nNQ5H"
      },
      "source": [
        "model2.summary()"
      ],
      "execution_count": null,
      "outputs": []
    },
    {
      "cell_type": "code",
      "metadata": {
        "id": "8qrk-wunNW1d"
      },
      "source": [
        "\"\"\"\r\n",
        "1D Conv 이용해 sequence 처리하기\r\n",
        "1D Conv 층을 이용해 커널로 슬라이딩하며 특성을 골라냄 (1D 특성 맵)\r\n",
        "strides, padding을 이용해 적절한 타깃을 만들어야 한다.\r\n",
        "모델의 중요하지 않은 정보를 버리고 중요 정보만 LSTM, GRU 층으로 넘기려면 \r\n",
        "합성곱(Conv)으로 sequence 길이 줄여야 함 (ex) kernel_size=4, strides=2, padding=\"valid\" => 반으로 다운 샘플링\r\n",
        "\"\"\"\r\n",
        "model3 = tf.keras.models.Sequential([\r\n",
        "                tf.keras.layers.Conv1D(filters=20, kernel_size=4, strides=2, padding=\"valid\", input_shape=[None, 1]),\r\n",
        "                tf.keras.layers.GRU(20, return_sequences=True),\r\n",
        "                tf.keras.layers.GRU(20, return_sequences=True),\r\n",
        "                tf.keras.layers.TimeDistributed(tf.keras.layers.Dense(10))\r\n",
        "])"
      ],
      "execution_count": null,
      "outputs": []
    },
    {
      "cell_type": "code",
      "metadata": {
        "id": "fx1kDzkXTAy-"
      },
      "source": [
        "model3.summary()"
      ],
      "execution_count": null,
      "outputs": []
    },
    {
      "cell_type": "code",
      "metadata": {
        "id": "iSsnmImsSP41"
      },
      "source": [
        ""
      ],
      "execution_count": null,
      "outputs": []
    }
  ]
}