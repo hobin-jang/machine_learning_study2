{
  "nbformat": 4,
  "nbformat_minor": 0,
  "metadata": {
    "colab": {
      "name": "이미지 암호화 테스트(라이브러리).ipynb",
      "private_outputs": true,
      "provenance": [],
      "authorship_tag": "ABX9TyOavdZcrxg6kKz07qWxirQ+",
      "include_colab_link": true
    },
    "kernelspec": {
      "name": "python3",
      "display_name": "Python 3"
    },
    "language_info": {
      "name": "python"
    }
  },
  "cells": [
    {
      "cell_type": "markdown",
      "metadata": {
        "id": "view-in-github",
        "colab_type": "text"
      },
      "source": [
        "<a href=\"https://colab.research.google.com/github/hobin-jang/colab_test/blob/master/%EC%9D%B4%EB%AF%B8%EC%A7%80_%EC%95%94%ED%98%B8%ED%99%94_%ED%85%8C%EC%8A%A4%ED%8A%B8(%EB%9D%BC%EC%9D%B4%EB%B8%8C%EB%9F%AC%EB%A6%AC).ipynb\" target=\"_parent\"><img src=\"https://colab.research.google.com/assets/colab-badge.svg\" alt=\"Open In Colab\"/></a>"
      ]
    },
    {
      "cell_type": "code",
      "metadata": {
        "id": "B-FmbJ70lgWW"
      },
      "source": [
        "# 라이브러리로 이미지 암호화 해보기\n",
        "from PIL import Image\n",
        "from tensorflow import keras\n",
        "import random\n",
        "import string"
      ],
      "execution_count": null,
      "outputs": []
    },
    {
      "cell_type": "code",
      "metadata": {
        "id": "1ITt_Plzlp3p"
      },
      "source": [
        "pip install pycrypto"
      ],
      "execution_count": null,
      "outputs": []
    },
    {
      "cell_type": "code",
      "metadata": {
        "id": "MaPEC1TEmaUV"
      },
      "source": [
        "from Crypto.Cipher import AES\n",
        "\n",
        "from google.colab import drive\n",
        "drive.mount('/gdrive', force_remount=True)\n",
        "\n",
        "filename = '/gdrive/My Drive/Images/linux_penguin.jpeg'\n",
        "filename_encrypted_ecb = \"file_encrypted_ecb\"\n",
        "filename_encrypted_cbc= \"file_encrypted_cbc\"\n",
        "format = \"bmp\""
      ],
      "execution_count": null,
      "outputs": []
    },
    {
      "cell_type": "code",
      "metadata": {
        "id": "s2AUwK4GmBA3"
      },
      "source": [
        "def key_generator(size = 16, chars = string.ascii_lowercase):\n",
        "    return ''.join(random.choice(chars) for _ in range(size))"
      ],
      "execution_count": null,
      "outputs": []
    },
    {
      "cell_type": "code",
      "metadata": {
        "id": "NwUxh5xMmIB1"
      },
      "source": [
        "def pad(data):\n",
        "    return data + b\"\\x00\" * (16 - len(data) % 16)"
      ],
      "execution_count": null,
      "outputs": []
    },
    {
      "cell_type": "code",
      "metadata": {
        "id": "6WvlhjFomJyk"
      },
      "source": [
        "def trans_format_RGB(data):\n",
        "    #tuple: Immutable, ensure that data is not lost\n",
        "    red, green, blue = tuple(map(lambda e: [data[i] for i in range(0, len(data)) if i % 3 == e], [0, 1, 2]))\n",
        "    pixels = tuple(zip(red, green, blue))\n",
        "    return pixels"
      ],
      "execution_count": null,
      "outputs": []
    },
    {
      "cell_type": "code",
      "metadata": {
        "id": "KnIUdVW2mRP6"
      },
      "source": [
        "def encrypt_image_ecb(filename):\n",
        "    #Open the bmp picture and convert it to RGB image\n",
        "    im = Image.open(filename)\n",
        "    #Convert image data into pixel value bytes\n",
        "    value_vector = im.convert(\"RGB\").tobytes()\n",
        "\n",
        "    imlength = len(value_vector)\n",
        "    #for i in range(original):\n",
        "        #print(data[i])\n",
        "    #Map the pixel value of the filled and encrypted data\n",
        "    value_encrypt = trans_format_RGB(aes_ecb_encrypt(key, pad(value_vector))[:imlength])\n",
        "    #for i in range(original):\n",
        "        #print(new[i])\n",
        "\n",
        "    #Create a new object, store the corresponding value\n",
        "    im2 = Image.new(im.mode, im.size)\n",
        "    im2.putdata(value_encrypt)\n",
        "\n",
        "    # Save the object as an image in the corresponding format\n",
        "    im2.save(filename_encrypted_ecb + \".\" + format, format)"
      ],
      "execution_count": null,
      "outputs": []
    },
    {
      "cell_type": "code",
      "metadata": {
        "id": "vjtdb0Q-mT7m"
      },
      "source": [
        "def encrypt_image_cbc(filename):\n",
        "    #Open the bmp picture and convert it to RGB image\n",
        "    im = Image.open(filename)\n",
        "    value_vector = im.convert(\"RGB\").tobytes()\n",
        "\n",
        "    # Convert image data to pixel value bytes\n",
        "    imlength = len(value_vector)\n",
        "\n",
        "    # Perform pixel value mapping on the filled and encrypted data\n",
        "    value_encrypt = trans_format_RGB(aes_cbc_encrypt(key, pad(value_vector))[:imlength])\n",
        "\n",
        "    # Create a new object, store the corresponding value\n",
        "    im2 = Image.new(im.mode, im.size)\n",
        "    im2.putdata(value_encrypt)\n",
        "\n",
        "    # Save the object as an image in the corresponding format\n",
        "    im2.save(filename_encrypted_cbc + \".\" + format, format)\n"
      ],
      "execution_count": null,
      "outputs": []
    },
    {
      "cell_type": "code",
      "metadata": {
        "id": "3yl0YyglmVqh"
      },
      "source": [
        "# CBC encryption\n",
        "def aes_cbc_encrypt(key, data, mode=AES.MODE_CBC):\n",
        "    #IV is a random value\n",
        "    IV = key_generator(16)\n",
        "    aes = AES.new(key, mode, IV)\n",
        "    new_data = aes.encrypt(data)\n",
        "    return new_data\n"
      ],
      "execution_count": null,
      "outputs": []
    },
    {
      "cell_type": "code",
      "metadata": {
        "id": "wwS6HvEymXxr"
      },
      "source": [
        "# ECB encryption\n",
        "def aes_ecb_encrypt(key, data, mode=AES.MODE_ECB):\n",
        "    #The default mode is ECB encryption\n",
        "    aes = AES.new(key, mode)\n",
        "    new_data = aes.encrypt(data)\n",
        "    return new_data"
      ],
      "execution_count": null,
      "outputs": []
    },
    {
      "cell_type": "code",
      "metadata": {
        "id": "986jgna_m3t0"
      },
      "source": [
        "key = key_generator(16)\n",
        "encrypt_image_ecb(filename)"
      ],
      "execution_count": null,
      "outputs": []
    },
    {
      "cell_type": "code",
      "metadata": {
        "id": "5mqluEy2ryiM"
      },
      "source": [
        "Image.open('file_encrypted_ecb.bmp')"
      ],
      "execution_count": null,
      "outputs": []
    },
    {
      "cell_type": "code",
      "metadata": {
        "id": "npm66lkIsTAh"
      },
      "source": [
        ""
      ],
      "execution_count": null,
      "outputs": []
    }
  ]
}